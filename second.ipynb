{
 "cells": [
  {
   "cell_type": "code",
   "execution_count": 1,
   "metadata": {},
   "outputs": [],
   "source": [
    "import netCDF4 as nc"
   ]
  },
  {
   "cell_type": "code",
   "execution_count": 2,
   "metadata": {},
   "outputs": [],
   "source": [
    "fn = 'data/download.nc'\n",
    "ds = nc.Dataset(fn)"
   ]
  },
  {
   "cell_type": "code",
   "execution_count": 7,
   "metadata": {},
   "outputs": [
    {
     "name": "stdout",
     "output_type": "stream",
     "text": [
      "<class 'netCDF4._netCDF4.Dataset'>\n",
      "root group (NETCDF3_CLASSIC data model, file format NETCDF3):\n",
      "    title: Dust/NO2/PM10/PM25/PM_Wildfire Air Pollutant ANALYSIS at 2 levels\n",
      "    institution: Data produced by Meteo France\n",
      "    source: Data from ENSEMBLE model\n",
      "    history: Model ENSEMBLE ANALYSIS\n",
      "    ANALYSIS: Europe, 20220105-20220110+[8H_20H]\n",
      "    summary: ENSEMBLE model hourly ANALYSIS of Dust/NO2/PM10/PM25/PM_Wildfire concentration at 2 levels from 20220105-20220110+[8H_20H] on Europe\n",
      "    project: MACC-RAQ (http://macc-raq.gmes-atmosphere.eu)\n",
      "    dimensions(sizes): longitude(115), latitude(61), level(2), time(12)\n",
      "    variables(dimensions): float32 longitude(longitude), float32 latitude(latitude), float32 level(level), float32 time(time), float32 dust(time, level, latitude, longitude), float32 no2_conc(time, level, latitude, longitude), float32 pm10_conc(time, level, latitude, longitude), float32 pm2p5_conc(time, level, latitude, longitude), float32 pmwf_conc(time, level, latitude, longitude)\n",
      "    groups: \n"
     ]
    }
   ],
   "source": [
    "print(ds)\n"
   ]
  },
  {
   "cell_type": "code",
   "execution_count": 10,
   "metadata": {},
   "outputs": [
    {
     "data": {
      "text/plain": [
       "<class 'netCDF4._netCDF4.Variable'>\n",
       "float32 dust(time, level, latitude, longitude)\n",
       "    _FillValue: -999.0\n",
       "    species: Dust\n",
       "    units: µg/m3\n",
       "    value: hourly values\n",
       "    standard_name: mass_concentration_of_dust_in_air\n",
       "unlimited dimensions: time\n",
       "current shape = (12, 2, 61, 115)\n",
       "filling on"
      ]
     },
     "execution_count": 10,
     "metadata": {},
     "output_type": "execute_result"
    }
   ],
   "source": [
    "ds[\"dust\"]"
   ]
  },
  {
   "cell_type": "code",
   "execution_count": 9,
   "metadata": {},
   "outputs": [
    {
     "data": {
      "text/plain": [
       "masked_array(\n",
       "  data=[[[0.0086402 , 0.00784439, 0.00716227, ..., 0.00306954,\n",
       "          0.00306954, 0.00306954],\n",
       "         [0.0077307 , 0.0069349 , 0.00625278, ..., 0.00318323,\n",
       "          0.00284217, 0.00306954],\n",
       "         [0.00670752, 0.0060254 , 0.00557066, ..., 0.00272848,\n",
       "          0.00272848, 0.0026148 ],\n",
       "         ...,\n",
       "         [0.00329692, 0.00295586, 0.00272848, ..., 0.00358114,\n",
       "          0.00355271, 0.00352429],\n",
       "         [0.00341061, 0.00318323, 0.00341061, ..., 0.00355271,\n",
       "          0.00355271, 0.00349587],\n",
       "         [0.00443379, 0.00466116, 0.00477485, ..., 0.00341061,\n",
       "          0.00335376, 0.00338218]],\n",
       "\n",
       "        [[0.00852651, 0.00773071, 0.00716227, ..., 0.00341061,\n",
       "          0.00341061, 0.00341061],\n",
       "         [0.00761702, 0.00682121, 0.00625278, ..., 0.00341061,\n",
       "          0.00318323, 0.00329692],\n",
       "         [0.00670752, 0.0060254 , 0.00557066, ..., 0.00295586,\n",
       "          0.00295586, 0.00284217],\n",
       "         ...,\n",
       "         [0.00318323, 0.00295586, 0.00284217, ..., 0.00369482,\n",
       "          0.0036664 , 0.00363798],\n",
       "         [0.00318323, 0.00318323, 0.00341061, ..., 0.0036664 ,\n",
       "          0.00363798, 0.00360956],\n",
       "         [0.00443379, 0.00466116, 0.00488853, ..., 0.00341061,\n",
       "          0.00346745, 0.00346745]]],\n",
       "  mask=False,\n",
       "  fill_value=1e+20,\n",
       "  dtype=float32)"
      ]
     },
     "execution_count": 9,
     "metadata": {},
     "output_type": "execute_result"
    }
   ],
   "source": [
    "ds[\"dust\"][2,:,:,:]"
   ]
  },
  {
   "cell_type": "code",
   "execution_count": 4,
   "metadata": {},
   "outputs": [
    {
     "name": "stdout",
     "output_type": "stream",
     "text": [
      "<class 'netCDF4._netCDF4.Dimension'>: name = 'longitude', size = 115\n",
      "<class 'netCDF4._netCDF4.Dimension'>: name = 'latitude', size = 61\n",
      "<class 'netCDF4._netCDF4.Dimension'>: name = 'level', size = 2\n",
      "<class 'netCDF4._netCDF4.Dimension'> (unlimited): name = 'time', size = 12\n"
     ]
    }
   ],
   "source": [
    "for dim in ds.dimensions.values():\n",
    "    print(dim)"
   ]
  },
  {
   "cell_type": "code",
   "execution_count": 5,
   "metadata": {},
   "outputs": [
    {
     "name": "stdout",
     "output_type": "stream",
     "text": [
      "<class 'netCDF4._netCDF4.Variable'>\n",
      "float32 longitude(longitude)\n",
      "    long_name: longitude\n",
      "    units: degrees_east\n",
      "unlimited dimensions: \n",
      "current shape = (115,)\n",
      "filling on, default _FillValue of 9.969209968386869e+36 used\n",
      "<class 'netCDF4._netCDF4.Variable'>\n",
      "float32 latitude(latitude)\n",
      "    long_name: latitude\n",
      "    units: degrees_north\n",
      "unlimited dimensions: \n",
      "current shape = (61,)\n",
      "filling on, default _FillValue of 9.969209968386869e+36 used\n",
      "<class 'netCDF4._netCDF4.Variable'>\n",
      "float32 level(level)\n",
      "    long_name: level\n",
      "    units: m\n",
      "unlimited dimensions: \n",
      "current shape = (2,)\n",
      "filling on, default _FillValue of 9.969209968386869e+36 used\n",
      "<class 'netCDF4._netCDF4.Variable'>\n",
      "float32 time(time)\n",
      "    long_name: ANALYSIS time from 20220105\n",
      "    units: hours\n",
      "unlimited dimensions: time\n",
      "current shape = (12,)\n",
      "filling on, default _FillValue of 9.969209968386869e+36 used\n",
      "<class 'netCDF4._netCDF4.Variable'>\n",
      "float32 dust(time, level, latitude, longitude)\n",
      "    _FillValue: -999.0\n",
      "    species: Dust\n",
      "    units: µg/m3\n",
      "    value: hourly values\n",
      "    standard_name: mass_concentration_of_dust_in_air\n",
      "unlimited dimensions: time\n",
      "current shape = (12, 2, 61, 115)\n",
      "filling on\n",
      "<class 'netCDF4._netCDF4.Variable'>\n",
      "float32 no2_conc(time, level, latitude, longitude)\n",
      "    _FillValue: -999.0\n",
      "    species: Nitrogen Dioxide\n",
      "    units: µg/m3\n",
      "    value: hourly values\n",
      "    standard_name: mass_concentration_of_nitrogen_dioxide_in_air\n",
      "unlimited dimensions: time\n",
      "current shape = (12, 2, 61, 115)\n",
      "filling on\n",
      "<class 'netCDF4._netCDF4.Variable'>\n",
      "float32 pm10_conc(time, level, latitude, longitude)\n",
      "    _FillValue: -999.0\n",
      "    species: PM10 Aerosol\n",
      "    units: µg/m3\n",
      "    value: hourly values\n",
      "    standard_name: mass_concentration_of_pm10_ambient_aerosol_in_air\n",
      "unlimited dimensions: time\n",
      "current shape = (12, 2, 61, 115)\n",
      "filling on\n",
      "<class 'netCDF4._netCDF4.Variable'>\n",
      "float32 pm2p5_conc(time, level, latitude, longitude)\n",
      "    _FillValue: -999.0\n",
      "    species: PM2.5 Aerosol\n",
      "    units: µg/m3\n",
      "    value: hourly values\n",
      "    standard_name: mass_concentration_of_pm2p5_ambient_aerosol_in_air\n",
      "unlimited dimensions: time\n",
      "current shape = (12, 2, 61, 115)\n",
      "filling on\n",
      "<class 'netCDF4._netCDF4.Variable'>\n",
      "float32 pmwf_conc(time, level, latitude, longitude)\n",
      "    _FillValue: -999.0\n",
      "    species: PM10 Aerosol from Wildfires\n",
      "    units: µg/m3\n",
      "    value: hourly values\n",
      "    standard_name: Not Defined\n",
      "unlimited dimensions: time\n",
      "current shape = (12, 2, 61, 115)\n",
      "filling on\n"
     ]
    }
   ],
   "source": [
    "for var in ds.variables.values():\n",
    "    print(var)"
   ]
  },
  {
   "cell_type": "code",
   "execution_count": 17,
   "metadata": {},
   "outputs": [],
   "source": [
    "import csv\n",
    "\n",
    "def convert_netcdf_to_csv(input_file, output_file):\n",
    "    nc_file = nc.Dataset(input_file, 'r')\n",
    "\n",
    "    with open(output_file, 'w', newline='') as csv_file:\n",
    "        writer = csv.writer(csv_file)\n",
    "\n",
    "        # Write header row\n",
    "        header = ['Latitude', 'Longitude', \"time\", 'Value']\n",
    "        writer.writerow(header)\n",
    "\n",
    "        # Access variable data\n",
    "        latitude = nc_file.variables['latitude'][:]\n",
    "        longitude = nc_file.variables['longitude'][:]\n",
    "        variable = nc_file.variables['dust'][:]  # Replace 'variable_name' with the actual variable name\n",
    "\n",
    "        # Flatten the latitude, longitude, and variable arrays\n",
    "        flat_latitude = latitude.flatten()\n",
    "        flat_longitude = longitude.flatten()\n",
    "        flat_variable = variable.flatten()\n",
    "\n",
    "        # Write data rows\n",
    "        rows = zip(flat_latitude, flat_longitude, flat_variable)\n",
    "        writer.writerows(rows)\n",
    "\n",
    "    nc_file.close()\n",
    "\n",
    "# Usage\n",
    "input_file = 'data/download.nc'\n",
    "output_file = 'output_nc.csv'\n",
    "convert_netcdf_to_csv(input_file, output_file)"
   ]
  }
 ],
 "metadata": {
  "kernelspec": {
   "display_name": "venv",
   "language": "python",
   "name": "python3"
  },
  "language_info": {
   "codemirror_mode": {
    "name": "ipython",
    "version": 3
   },
   "file_extension": ".py",
   "mimetype": "text/x-python",
   "name": "python",
   "nbconvert_exporter": "python",
   "pygments_lexer": "ipython3",
   "version": "3.9.16"
  },
  "orig_nbformat": 4
 },
 "nbformat": 4,
 "nbformat_minor": 2
}
