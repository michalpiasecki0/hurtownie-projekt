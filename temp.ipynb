{
 "cells": [
  {
   "cell_type": "code",
   "execution_count": 1,
   "metadata": {},
   "outputs": [
    {
     "ename": "ModuleNotFoundError",
     "evalue": "No module named 'netCDF4'",
     "output_type": "error",
     "traceback": [
      "\u001b[0;31m---------------------------------------------------------------------------\u001b[0m",
      "\u001b[0;31mModuleNotFoundError\u001b[0m                       Traceback (most recent call last)",
      "Cell \u001b[0;32mIn[1], line 2\u001b[0m\n\u001b[1;32m      1\u001b[0m \u001b[39mimport\u001b[39;00m \u001b[39mcdsapi\u001b[39;00m\n\u001b[0;32m----> 2\u001b[0m \u001b[39mimport\u001b[39;00m \u001b[39mnetCDF4\u001b[39;00m\n",
      "\u001b[0;31mModuleNotFoundError\u001b[0m: No module named 'netCDF4'"
     ]
    }
   ],
   "source": [
    "import cdsapi\n",
    "import netCDF4"
   ]
  },
  {
   "cell_type": "code",
   "execution_count": 18,
   "metadata": {},
   "outputs": [
    {
     "name": "stderr",
     "output_type": "stream",
     "text": [
      "2023-06-07 21:53:05,823 INFO Welcome to the CDS\n",
      "2023-06-07 21:53:05,824 INFO Sending request to https://ads.atmosphere.copernicus.eu/api/v2/resources/cams-europe-air-quality-forecasts\n",
      "2023-06-07 21:53:05,886 INFO Request is queued\n",
      "2023-06-07 21:53:06,941 INFO Request is running\n",
      "2023-06-07 21:53:27,009 INFO Request is completed\n",
      "2023-06-07 21:53:27,010 INFO Downloading https://download-0005-ads-clone.copernicus-climate.eu/cache-compute-0005/cache/data2/adaptor.cams_regional_fc.retrieve-1686167604.2828743-17053-11-c0c50f0b-1482-4053-a0a6-cb9148389ef2.nc to download.nc (3.2M)\n",
      "2023-06-07 21:53:27,897 INFO Download rate 3.6M/s   \n"
     ]
    },
    {
     "data": {
      "text/plain": [
       "Result(content_length=3370240,content_type=application/x-netcdf,location=https://download-0005-ads-clone.copernicus-climate.eu/cache-compute-0005/cache/data2/adaptor.cams_regional_fc.retrieve-1686167604.2828743-17053-11-c0c50f0b-1482-4053-a0a6-cb9148389ef2.nc)"
      ]
     },
     "execution_count": 18,
     "metadata": {},
     "output_type": "execute_result"
    }
   ],
   "source": [
    "import cdsapi\n",
    "\n",
    "c = cdsapi.Client()\n",
    "\n",
    "c.retrieve(\n",
    "    'cams-europe-air-quality-forecasts',\n",
    "    {\n",
    "        'model': 'ensemble',\n",
    "        'date': '2022-01-05/2022-01-10',\n",
    "        'format': 'netcdf',\n",
    "        'variable': [\n",
    "            'dust', 'nitrogen_dioxide', 'particulate_matter_10um',\n",
    "            'particulate_matter_2.5um', 'pm10_wildfires',\n",
    "        ],\n",
    "        'level': [\n",
    "            '0', '100', '50',\n",
    "        ],\n",
    "        'type': 'analysis',\n",
    "        'time': [\n",
    "            '08:00', '20:00',\n",
    "        ],\n",
    "        'area': [\n",
    "            55, 13.96, 48.89,\n",
    "            25.48,\n",
    "        ],\n",
    "        'leadtime_hour': '0',\n",
    "    },\n",
    "    'download.nc')"
   ]
  },
  {
   "cell_type": "code",
   "execution_count": 5,
   "metadata": {},
   "outputs": [],
   "source": [
    "import json\n",
    "\n",
    "def convert_geojson_to_json(input_file, output_file):\n",
    "    with open(input_file, 'r') as geojson_file:\n",
    "        geojson_data = json.load(geojson_file)\n",
    "    \n",
    "    # Extract the relevant data from the GeoJSON\n",
    "    json_data = {\n",
    "        'type': geojson_data['type'],\n",
    "        'features': geojson_data['features']\n",
    "    }\n",
    "    \n",
    "    with open(output_file, 'w') as json_file:\n",
    "        json.dump(json_data, json_file)\n",
    "\n",
    "# Usage\n",
    "input_file = 'stacje'\n",
    "output_file = 'output.json'\n",
    "convert_geojson_to_json(input_file, output_file)"
   ]
  },
  {
   "cell_type": "code",
   "execution_count": 4,
   "metadata": {},
   "outputs": [],
   "source": [
    "import pygrib"
   ]
  },
  {
   "cell_type": "code",
   "execution_count": 5,
   "metadata": {},
   "outputs": [],
   "source": [
    "grb = pygrib.open(\"test.grib\")\n"
   ]
  },
  {
   "cell_type": "code",
   "execution_count": 6,
   "metadata": {},
   "outputs": [],
   "source": [
    "message = grb.message(1)\n",
    "\n"
   ]
  },
  {
   "cell_type": "code",
   "execution_count": 11,
   "metadata": {},
   "outputs": [
    {
     "data": {
      "text/plain": [
       "['globalDomain',\n",
       " 'GRIBEditionNumber',\n",
       " 'tablesVersionLatestOfficial',\n",
       " 'tablesVersionLatest',\n",
       " 'grib2divider',\n",
       " 'is_efas',\n",
       " 'angleSubdivisions',\n",
       " 'missingValue',\n",
       " 'ieeeFloats',\n",
       " 'isHindcast',\n",
       " 'section0Length',\n",
       " 'identifier',\n",
       " 'discipline',\n",
       " 'editionNumber',\n",
       " 'totalLength',\n",
       " 'sectionNumber',\n",
       " 'section1Length',\n",
       " 'numberOfSection',\n",
       " 'centre',\n",
       " 'centreDescription',\n",
       " 'subCentre',\n",
       " 'tablesVersion',\n",
       " 'masterDir',\n",
       " 'localTablesVersion',\n",
       " 'significanceOfReferenceTime',\n",
       " 'year',\n",
       " 'month',\n",
       " 'day',\n",
       " 'hour',\n",
       " 'minute',\n",
       " 'second',\n",
       " 'dataDate',\n",
       " 'julianDay',\n",
       " 'dataTime',\n",
       " 'productionStatusOfProcessedData',\n",
       " 'typeOfProcessedData',\n",
       " 'md5Section1',\n",
       " 'selectStepTemplateInterval',\n",
       " 'selectStepTemplateInstant',\n",
       " 'stepType',\n",
       " 'is_chemical',\n",
       " 'is_chemical_distfn',\n",
       " 'is_chemical_srcsink',\n",
       " 'is_aerosol',\n",
       " 'is_aerosol_optical',\n",
       " 'setCalendarId',\n",
       " 'deleteCalendarId',\n",
       " 'is_uerra',\n",
       " 'sectionNumber',\n",
       " 'grib2LocalSectionPresent',\n",
       " 'deleteLocalDefinition',\n",
       " 'section2Length',\n",
       " 'numberOfSection',\n",
       " 'addEmptySection2',\n",
       " 'sectionNumber',\n",
       " 'gridDescriptionSectionPresent',\n",
       " 'section3Length',\n",
       " 'numberOfSection',\n",
       " 'sourceOfGridDefinition',\n",
       " 'numberOfDataPoints',\n",
       " 'numberOfOctectsForNumberOfPoints',\n",
       " 'interpretationOfNumberOfPoints',\n",
       " 'PLPresent',\n",
       " 'gridDefinitionTemplateNumber',\n",
       " 'gridDefinitionDescription',\n",
       " 'shapeOfTheEarth',\n",
       " 'scaleFactorOfRadiusOfSphericalEarth',\n",
       " 'scaledValueOfRadiusOfSphericalEarth',\n",
       " 'scaleFactorOfEarthMajorAxis',\n",
       " 'scaledValueOfEarthMajorAxis',\n",
       " 'scaleFactorOfEarthMinorAxis',\n",
       " 'scaledValueOfEarthMinorAxis',\n",
       " 'radius',\n",
       " 'Ni',\n",
       " 'Nj',\n",
       " 'basicAngleOfTheInitialProductionDomain',\n",
       " 'mBasicAngle',\n",
       " 'angleMultiplier',\n",
       " 'mAngleMultiplier',\n",
       " 'subdivisionsOfBasicAngle',\n",
       " 'angleDivisor',\n",
       " 'latitudeOfFirstGridPoint',\n",
       " 'longitudeOfFirstGridPoint',\n",
       " 'resolutionAndComponentFlags',\n",
       " 'resolutionAndComponentFlags1',\n",
       " 'resolutionAndComponentFlags2',\n",
       " 'iDirectionIncrementGiven',\n",
       " 'jDirectionIncrementGiven',\n",
       " 'uvRelativeToGrid',\n",
       " 'resolutionAndComponentFlags6',\n",
       " 'resolutionAndComponentFlags7',\n",
       " 'resolutionAndComponentFlags8',\n",
       " 'ijDirectionIncrementGiven',\n",
       " 'latitudeOfLastGridPoint',\n",
       " 'longitudeOfLastGridPoint',\n",
       " 'iDirectionIncrement',\n",
       " 'jDirectionIncrement',\n",
       " 'scanningMode',\n",
       " 'iScansNegatively',\n",
       " 'jScansPositively',\n",
       " 'jPointsAreConsecutive',\n",
       " 'alternativeRowScanning',\n",
       " 'iScansPositively',\n",
       " 'scanningMode5',\n",
       " 'scanningMode6',\n",
       " 'scanningMode7',\n",
       " 'scanningMode8',\n",
       " 'g2grid',\n",
       " 'latitudeOfFirstGridPointInDegrees',\n",
       " 'longitudeOfFirstGridPointInDegrees',\n",
       " 'latitudeOfLastGridPointInDegrees',\n",
       " 'longitudeOfLastGridPointInDegrees',\n",
       " 'iDirectionIncrementInDegrees',\n",
       " 'jDirectionIncrementInDegrees',\n",
       " 'latLonValues',\n",
       " 'latitudes',\n",
       " 'longitudes',\n",
       " 'distinctLatitudes',\n",
       " 'distinctLongitudes',\n",
       " 'gridType',\n",
       " 'md5Section3',\n",
       " 'sectionNumber',\n",
       " 'section4Length',\n",
       " 'numberOfSection',\n",
       " 'NV',\n",
       " 'neitherPresent',\n",
       " 'productDefinitionTemplateNumber',\n",
       " 'genVertHeightCoords',\n",
       " 'parameterCategory',\n",
       " 'parameterNumber',\n",
       " 'parameterUnits',\n",
       " 'parameterName',\n",
       " 'constituentType',\n",
       " 'constituentTypeName',\n",
       " 'typeOfGeneratingProcess',\n",
       " 'backgroundProcess',\n",
       " 'generatingProcessIdentifier',\n",
       " 'hoursAfterDataCutoff',\n",
       " 'minutesAfterDataCutoff',\n",
       " 'indicatorOfUnitOfTimeRange',\n",
       " 'stepUnits',\n",
       " 'forecastTime',\n",
       " 'startStep',\n",
       " 'endStep',\n",
       " 'stepRange',\n",
       " 'stepTypeInternal',\n",
       " 'validityDate',\n",
       " 'validityTime',\n",
       " 'typeOfFirstFixedSurface',\n",
       " 'unitsOfFirstFixedSurface',\n",
       " 'nameOfFirstFixedSurface',\n",
       " 'scaleFactorOfFirstFixedSurface',\n",
       " 'scaledValueOfFirstFixedSurface',\n",
       " 'typeOfSecondFixedSurface',\n",
       " 'unitsOfSecondFixedSurface',\n",
       " 'nameOfSecondFixedSurface',\n",
       " 'scaleFactorOfSecondFixedSurface',\n",
       " 'scaledValueOfSecondFixedSurface',\n",
       " 'pressureUnits',\n",
       " 'typeOfLevel',\n",
       " 'level',\n",
       " 'bottomLevel',\n",
       " 'topLevel',\n",
       " 'tempPressureUnits',\n",
       " 'paramIdECMF',\n",
       " 'paramId',\n",
       " 'shortNameECMF',\n",
       " 'shortName',\n",
       " 'unitsECMF',\n",
       " 'units',\n",
       " 'nameECMF',\n",
       " 'name',\n",
       " 'cfNameECMF',\n",
       " 'cfName',\n",
       " 'cfVarNameECMF',\n",
       " 'cfVarName',\n",
       " 'modelName',\n",
       " 'ifsParam',\n",
       " 'PVPresent',\n",
       " 'deletePV',\n",
       " 'md5Section4',\n",
       " 'lengthOfHeaders',\n",
       " 'md5Headers',\n",
       " 'sectionNumber',\n",
       " 'section5Length',\n",
       " 'numberOfSection',\n",
       " 'numberOfValues',\n",
       " 'dataRepresentationTemplateNumber',\n",
       " 'packingType',\n",
       " 'referenceValue',\n",
       " 'referenceValueError',\n",
       " 'binaryScaleFactor',\n",
       " 'decimalScaleFactor',\n",
       " 'optimizeScaleFactor',\n",
       " 'bitsPerValue',\n",
       " 'typeOfOriginalFieldValues',\n",
       " 'md5Section5',\n",
       " 'sectionNumber',\n",
       " 'section6Length',\n",
       " 'numberOfSection',\n",
       " 'bitMapIndicator',\n",
       " 'bitmapPresent',\n",
       " 'md5Section6',\n",
       " 'sectionNumber',\n",
       " 'section7Length',\n",
       " 'numberOfSection',\n",
       " 'codedValues',\n",
       " 'values',\n",
       " 'packingError',\n",
       " 'unpackedError',\n",
       " 'maximum',\n",
       " 'minimum',\n",
       " 'average',\n",
       " 'numberOfMissing',\n",
       " 'standardDeviation',\n",
       " 'skewness',\n",
       " 'kurtosis',\n",
       " 'isConstant',\n",
       " 'changeDecimalPrecision',\n",
       " 'decimalPrecision',\n",
       " 'setBitsPerValue',\n",
       " 'getNumberOfValues',\n",
       " 'scaleValuesBy',\n",
       " 'offsetValuesBy',\n",
       " 'productType',\n",
       " 'md5Section7',\n",
       " 'section8Length',\n",
       " 'analDate',\n",
       " 'validDate']"
      ]
     },
     "execution_count": 11,
     "metadata": {},
     "output_type": "execute_result"
    }
   ],
   "source": [
    "message.keys()"
   ]
  },
  {
   "cell_type": "code",
   "execution_count": 15,
   "metadata": {},
   "outputs": [],
   "source": [
    "grb.rewind()"
   ]
  },
  {
   "cell_type": "code",
   "execution_count": 17,
   "metadata": {},
   "outputs": [
    {
     "ename": "AttributeError",
     "evalue": "'pygrib._pygrib.open' object has no attribute 'validDate'",
     "output_type": "error",
     "traceback": [
      "\u001b[0;31m---------------------------------------------------------------------------\u001b[0m",
      "\u001b[0;31mAttributeError\u001b[0m                            Traceback (most recent call last)",
      "Cell \u001b[0;32mIn[17], line 5\u001b[0m\n\u001b[1;32m      3\u001b[0m t2mens \u001b[39m=\u001b[39m []\n\u001b[1;32m      4\u001b[0m \u001b[39mfor\u001b[39;00m grab \u001b[39min\u001b[39;00m grb:\n\u001b[0;32m----> 5\u001b[0m     \u001b[39mif\u001b[39;00m grb\u001b[39m.\u001b[39;49mvalidDate \u001b[39m==\u001b[39m date_valid \u001b[39mand\u001b[39;00m grb\u001b[39m.\u001b[39mparameterName \u001b[39m==\u001b[39m \u001b[39m'\u001b[39m\u001b[39mTemperature\u001b[39m\u001b[39m'\u001b[39m \u001b[39mand\u001b[39;00m grb\u001b[39m.\u001b[39mlevel \u001b[39m==\u001b[39m \u001b[39m2\u001b[39m: \n\u001b[1;32m      6\u001b[0m         t2mens\u001b[39m.\u001b[39mappend(grab\u001b[39m.\u001b[39mvalues)\n",
      "\u001b[0;31mAttributeError\u001b[0m: 'pygrib._pygrib.open' object has no attribute 'validDate'"
     ]
    }
   ],
   "source": [
    "from datetime import datetime\n",
    "date_valid = datetime(2022,2,3,0)\n",
    "t2mens = []\n",
    "for grab in grb:\n",
    "    if grb.validDate == date_valid and grb.parameterName == 'Temperature' and grb.level == 2: \n",
    "        t2mens.append(grab.values)"
   ]
  },
  {
   "cell_type": "code",
   "execution_count": 7,
   "metadata": {},
   "outputs": [
    {
     "data": {
      "text/plain": [
       "1:Mass density (concentration):kg m-3 (instant):regular_ll:surface:level 0 -:fcst time 0 hrs:from 202201130800"
      ]
     },
     "execution_count": 7,
     "metadata": {},
     "output_type": "execute_result"
    }
   ],
   "source": [
    "message"
   ]
  },
  {
   "cell_type": "code",
   "execution_count": 14,
   "metadata": {},
   "outputs": [],
   "source": [
    "import csv"
   ]
  },
  {
   "cell_type": "code",
   "execution_count": 16,
   "metadata": {},
   "outputs": [],
   "source": [
    "def convert_grib_to_csv(input_file, output_file):\n",
    "    grbs = pygrib.open(input_file)\n",
    "    messages = grbs.select()\n",
    "\n",
    "    with open(output_file, 'w', newline='') as csv_file:\n",
    "        writer = csv.writer(csv_file)\n",
    "\n",
    "        # Write header row\n",
    "        header = ['Latitude', 'Longitude', 'Value']\n",
    "        writer.writerow(header)\n",
    "\n",
    "        for message in messages:\n",
    "            latitudes, longitudes = message.latlons()\n",
    "            values = message.values\n",
    "\n",
    "            # Flatten the latitudes, longitudes, and values arrays\n",
    "            flat_latitudes = latitudes.flatten()\n",
    "            flat_longitudes = longitudes.flatten()\n",
    "            flat_values = values.flatten()\n",
    "\n",
    "            # Write data rows\n",
    "            rows = zip(flat_latitudes, flat_longitudes, flat_values)\n",
    "            writer.writerows(rows)\n",
    "\n",
    "    grbs.close()"
   ]
  },
  {
   "cell_type": "code",
   "execution_count": 17,
   "metadata": {},
   "outputs": [],
   "source": [
    "convert_grib_to_csv(input_file=\"test.grib\",\n",
    "                    output_file=\"test.csv\")"
   ]
  },
  {
   "cell_type": "code",
   "execution_count": 2,
   "metadata": {},
   "outputs": [],
   "source": [
    "import pandas as pd\n",
    "\n",
    "\n",
    "X = pd.read_csv(\"test.csv\")\n"
   ]
  },
  {
   "cell_type": "code",
   "execution_count": 3,
   "metadata": {},
   "outputs": [
    {
     "data": {
      "text/html": [
       "<div>\n",
       "<style scoped>\n",
       "    .dataframe tbody tr th:only-of-type {\n",
       "        vertical-align: middle;\n",
       "    }\n",
       "\n",
       "    .dataframe tbody tr th {\n",
       "        vertical-align: top;\n",
       "    }\n",
       "\n",
       "    .dataframe thead th {\n",
       "        text-align: right;\n",
       "    }\n",
       "</style>\n",
       "<table border=\"1\" class=\"dataframe\">\n",
       "  <thead>\n",
       "    <tr style=\"text-align: right;\">\n",
       "      <th></th>\n",
       "      <th>Latitude</th>\n",
       "      <th>Longitude</th>\n",
       "      <th>Value</th>\n",
       "    </tr>\n",
       "  </thead>\n",
       "  <tbody>\n",
       "    <tr>\n",
       "      <th>0</th>\n",
       "      <td>54.95</td>\n",
       "      <td>14.05</td>\n",
       "      <td>3.765877e-12</td>\n",
       "    </tr>\n",
       "  </tbody>\n",
       "</table>\n",
       "</div>"
      ],
      "text/plain": [
       "   Latitude  Longitude         Value\n",
       "0     54.95      14.05  3.765877e-12"
      ]
     },
     "execution_count": 3,
     "metadata": {},
     "output_type": "execute_result"
    }
   ],
   "source": [
    "X.head(1)"
   ]
  }
 ],
 "metadata": {
  "kernelspec": {
   "display_name": "venv",
   "language": "python",
   "name": "python3"
  },
  "language_info": {
   "codemirror_mode": {
    "name": "ipython",
    "version": 3
   },
   "file_extension": ".py",
   "mimetype": "text/x-python",
   "name": "python",
   "nbconvert_exporter": "python",
   "pygments_lexer": "ipython3",
   "version": "3.9.16"
  },
  "orig_nbformat": 4
 },
 "nbformat": 4,
 "nbformat_minor": 2
}
